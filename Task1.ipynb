{
 "cells": [
  {
   "cell_type": "code",
   "execution_count": 1,
   "metadata": {},
   "outputs": [],
   "source": [
    "D = {}\n",
    "Countries = [\"India\", \"Australia\", \"Japan\"]\n",
    "Capitals = [\"New Dehli\", \"Canberra\", \"Tokyo\"]\n",
    "Currency = (\"Rupees\", \"Dollar\", \"Yen\")\n",
    "Namelen = {5,9,5}\n",
    "\n",
    "D['Countries'] = Countries\n",
    "D['Capitals'] = Capitals\n",
    "D['Currency'] = Currency\n",
    "D['namelen"
   ]
  },
  {
   "cell_type": "code",
   "execution_count": null,
   "metadata": {},
   "outputs": [],
   "source": []
  }
 ],
 "metadata": {
  "kernelspec": {
   "display_name": "Python 3",
   "language": "python",
   "name": "python3"
  },
  "language_info": {
   "codemirror_mode": {
    "name": "ipython",
    "version": 3
   },
   "file_extension": ".py",
   "mimetype": "text/x-python",
   "name": "python",
   "nbconvert_exporter": "python",
   "pygments_lexer": "ipython3",
   "version": "3.7.6"
  }
 },
 "nbformat": 4,
 "nbformat_minor": 4
}
