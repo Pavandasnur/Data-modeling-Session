{
 "cells": [
  {
   "cell_type": "code",
   "execution_count": 20,
   "metadata": {},
   "outputs": [],
   "source": [
    "D = {}\n",
    "Countries = [\"India\", \"Australia\", \"Japan\"]\n",
    "Capitals = [\"New Dehli\", \"Canberra\", \"Tokyo\"]\n",
    "Currency = (\"Rupees\", \"Dollar\", \"Yen\")\n"
   ]
  },
  {
   "cell_type": "code",
   "execution_count": 21,
   "metadata": {},
   "outputs": [
    {
     "data": {
      "text/plain": [
       "set()"
      ]
     },
     "execution_count": 21,
     "metadata": {},
     "output_type": "execute_result"
    }
   ],
   "source": [
    "Namelen = set()\n",
    "Namelen"
   ]
  },
  {
   "cell_type": "code",
   "execution_count": 23,
   "metadata": {},
   "outputs": [
    {
     "data": {
      "text/plain": [
       "{5, 9}"
      ]
     },
     "execution_count": 23,
     "metadata": {},
     "output_type": "execute_result"
    }
   ],
   "source": [
    "Namelen.add(len(Countries[0]))\n",
    "Namelen.add(len(Countries[1]))\n",
    "Namelen.add(len(Countries[2]))\n",
    "\n",
    "Namelen"
   ]
  },
  {
   "cell_type": "code",
   "execution_count": 24,
   "metadata": {},
   "outputs": [
    {
     "data": {
      "text/plain": [
       "{'Countries': ['India', 'Australia', 'Japan'],\n",
       " 'Capitals': ['New Dehli', 'Canberra', 'Tokyo'],\n",
       " 'Currency': ('Rupees', 'Dollar', 'Yen'),\n",
       " 'Countrynamelen': {5, 9}}"
      ]
     },
     "execution_count": 24,
     "metadata": {},
     "output_type": "execute_result"
    }
   ],
   "source": [
    "D['Countries'] = Countries\n",
    "D['Capitals'] = Capitals\n",
    "D['Currency'] = Currency\n",
    "D['Countrynamelen'] = Namelen\n",
    "D\n"
   ]
  },
  {
   "cell_type": "code",
   "execution_count": null,
   "metadata": {},
   "outputs": [],
   "source": []
  }
 ],
 "metadata": {
  "kernelspec": {
   "display_name": "Python 3",
   "language": "python",
   "name": "python3"
  },
  "language_info": {
   "codemirror_mode": {
    "name": "ipython",
    "version": 3
   },
   "file_extension": ".py",
   "mimetype": "text/x-python",
   "name": "python",
   "nbconvert_exporter": "python",
   "pygments_lexer": "ipython3",
   "version": "3.7.6"
  }
 },
 "nbformat": 4,
 "nbformat_minor": 4
}
